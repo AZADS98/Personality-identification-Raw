{
 "cells": [
  {
   "cell_type": "code",
   "execution_count": 27,
   "id": "57db4720-b383-470f-91d4-3161dc5cef16",
   "metadata": {},
   "outputs": [],
   "source": [
    "# IMPORTING USEFUL LIBRARIES\n",
    "\n",
    "import pandas as pd\n",
    "import numpy as np\n",
    "import matplotlib.pyplot as plt\n",
    "from sklearn.model_selection import train_test_split\n",
    "from sklearn import svm\n",
    "import joblib"
   ]
  },
  {
   "cell_type": "code",
   "execution_count": 3,
   "id": "29c63857-7f53-48dd-9df4-27ccd9e8bd2d",
   "metadata": {},
   "outputs": [
    {
     "data": {
      "text/html": [
       "<div>\n",
       "<style scoped>\n",
       "    .dataframe tbody tr th:only-of-type {\n",
       "        vertical-align: middle;\n",
       "    }\n",
       "\n",
       "    .dataframe tbody tr th {\n",
       "        vertical-align: top;\n",
       "    }\n",
       "\n",
       "    .dataframe thead th {\n",
       "        text-align: right;\n",
       "    }\n",
       "</style>\n",
       "<table border=\"1\" class=\"dataframe\">\n",
       "  <thead>\n",
       "    <tr style=\"text-align: right;\">\n",
       "      <th></th>\n",
       "      <th>Unnamed: 0</th>\n",
       "      <th>1</th>\n",
       "      <th>2</th>\n",
       "      <th>3</th>\n",
       "      <th>4</th>\n",
       "      <th>5</th>\n",
       "      <th>6</th>\n",
       "      <th>7</th>\n",
       "      <th>8</th>\n",
       "      <th>9</th>\n",
       "      <th>...</th>\n",
       "      <th>82</th>\n",
       "      <th>83</th>\n",
       "      <th>84</th>\n",
       "      <th>85</th>\n",
       "      <th>86</th>\n",
       "      <th>87</th>\n",
       "      <th>88</th>\n",
       "      <th>89</th>\n",
       "      <th>90</th>\n",
       "      <th>TYPE</th>\n",
       "    </tr>\n",
       "  </thead>\n",
       "  <tbody>\n",
       "    <tr>\n",
       "      <th>0</th>\n",
       "      <td>1</td>\n",
       "      <td>1</td>\n",
       "      <td>0</td>\n",
       "      <td>0</td>\n",
       "      <td>0</td>\n",
       "      <td>0</td>\n",
       "      <td>0</td>\n",
       "      <td>0</td>\n",
       "      <td>0</td>\n",
       "      <td>0</td>\n",
       "      <td>...</td>\n",
       "      <td>1</td>\n",
       "      <td>0</td>\n",
       "      <td>0</td>\n",
       "      <td>0</td>\n",
       "      <td>0</td>\n",
       "      <td>0</td>\n",
       "      <td>0</td>\n",
       "      <td>0</td>\n",
       "      <td>0</td>\n",
       "      <td>ONE</td>\n",
       "    </tr>\n",
       "    <tr>\n",
       "      <th>1</th>\n",
       "      <td>2</td>\n",
       "      <td>1</td>\n",
       "      <td>0</td>\n",
       "      <td>0</td>\n",
       "      <td>0</td>\n",
       "      <td>0</td>\n",
       "      <td>0</td>\n",
       "      <td>0</td>\n",
       "      <td>0</td>\n",
       "      <td>0</td>\n",
       "      <td>...</td>\n",
       "      <td>1</td>\n",
       "      <td>0</td>\n",
       "      <td>0</td>\n",
       "      <td>0</td>\n",
       "      <td>0</td>\n",
       "      <td>0</td>\n",
       "      <td>0</td>\n",
       "      <td>0</td>\n",
       "      <td>0</td>\n",
       "      <td>ONE</td>\n",
       "    </tr>\n",
       "    <tr>\n",
       "      <th>2</th>\n",
       "      <td>3</td>\n",
       "      <td>1</td>\n",
       "      <td>0</td>\n",
       "      <td>0</td>\n",
       "      <td>0</td>\n",
       "      <td>0</td>\n",
       "      <td>0</td>\n",
       "      <td>0</td>\n",
       "      <td>0</td>\n",
       "      <td>0</td>\n",
       "      <td>...</td>\n",
       "      <td>1</td>\n",
       "      <td>0</td>\n",
       "      <td>0</td>\n",
       "      <td>0</td>\n",
       "      <td>0</td>\n",
       "      <td>0</td>\n",
       "      <td>0</td>\n",
       "      <td>0</td>\n",
       "      <td>0</td>\n",
       "      <td>ONE</td>\n",
       "    </tr>\n",
       "    <tr>\n",
       "      <th>3</th>\n",
       "      <td>4</td>\n",
       "      <td>1</td>\n",
       "      <td>0</td>\n",
       "      <td>0</td>\n",
       "      <td>0</td>\n",
       "      <td>0</td>\n",
       "      <td>0</td>\n",
       "      <td>0</td>\n",
       "      <td>0</td>\n",
       "      <td>0</td>\n",
       "      <td>...</td>\n",
       "      <td>1</td>\n",
       "      <td>0</td>\n",
       "      <td>0</td>\n",
       "      <td>0</td>\n",
       "      <td>0</td>\n",
       "      <td>0</td>\n",
       "      <td>0</td>\n",
       "      <td>0</td>\n",
       "      <td>0</td>\n",
       "      <td>ONE</td>\n",
       "    </tr>\n",
       "    <tr>\n",
       "      <th>4</th>\n",
       "      <td>5</td>\n",
       "      <td>1</td>\n",
       "      <td>0</td>\n",
       "      <td>0</td>\n",
       "      <td>0</td>\n",
       "      <td>0</td>\n",
       "      <td>0</td>\n",
       "      <td>0</td>\n",
       "      <td>0</td>\n",
       "      <td>0</td>\n",
       "      <td>...</td>\n",
       "      <td>1</td>\n",
       "      <td>0</td>\n",
       "      <td>0</td>\n",
       "      <td>0</td>\n",
       "      <td>0</td>\n",
       "      <td>0</td>\n",
       "      <td>0</td>\n",
       "      <td>0</td>\n",
       "      <td>0</td>\n",
       "      <td>ONE</td>\n",
       "    </tr>\n",
       "  </tbody>\n",
       "</table>\n",
       "<p>5 rows × 92 columns</p>\n",
       "</div>"
      ],
      "text/plain": [
       "   Unnamed: 0  1  2  3  4  5  6  7  8  9  ...  82  83  84  85  86  87  88  89  \\\n",
       "0           1  1  0  0  0  0  0  0  0  0  ...   1   0   0   0   0   0   0   0   \n",
       "1           2  1  0  0  0  0  0  0  0  0  ...   1   0   0   0   0   0   0   0   \n",
       "2           3  1  0  0  0  0  0  0  0  0  ...   1   0   0   0   0   0   0   0   \n",
       "3           4  1  0  0  0  0  0  0  0  0  ...   1   0   0   0   0   0   0   0   \n",
       "4           5  1  0  0  0  0  0  0  0  0  ...   1   0   0   0   0   0   0   0   \n",
       "\n",
       "   90  TYPE  \n",
       "0   0   ONE  \n",
       "1   0   ONE  \n",
       "2   0   ONE  \n",
       "3   0   ONE  \n",
       "4   0   ONE  \n",
       "\n",
       "[5 rows x 92 columns]"
      ]
     },
     "execution_count": 3,
     "metadata": {},
     "output_type": "execute_result"
    }
   ],
   "source": [
    "# LOADING THE DATASET \n",
    "\n",
    "data = pd.read_excel('TOTAL.xlsx')\n",
    "data.head()"
   ]
  },
  {
   "cell_type": "code",
   "execution_count": 4,
   "id": "4c1bc438-c16a-4294-b98f-3b4dd7cfeff4",
   "metadata": {},
   "outputs": [
    {
     "data": {
      "text/html": [
       "<div>\n",
       "<style scoped>\n",
       "    .dataframe tbody tr th:only-of-type {\n",
       "        vertical-align: middle;\n",
       "    }\n",
       "\n",
       "    .dataframe tbody tr th {\n",
       "        vertical-align: top;\n",
       "    }\n",
       "\n",
       "    .dataframe thead th {\n",
       "        text-align: right;\n",
       "    }\n",
       "</style>\n",
       "<table border=\"1\" class=\"dataframe\">\n",
       "  <thead>\n",
       "    <tr style=\"text-align: right;\">\n",
       "      <th></th>\n",
       "      <th>1</th>\n",
       "      <th>2</th>\n",
       "      <th>3</th>\n",
       "      <th>4</th>\n",
       "      <th>5</th>\n",
       "      <th>6</th>\n",
       "      <th>7</th>\n",
       "      <th>8</th>\n",
       "      <th>9</th>\n",
       "      <th>10</th>\n",
       "      <th>...</th>\n",
       "      <th>82</th>\n",
       "      <th>83</th>\n",
       "      <th>84</th>\n",
       "      <th>85</th>\n",
       "      <th>86</th>\n",
       "      <th>87</th>\n",
       "      <th>88</th>\n",
       "      <th>89</th>\n",
       "      <th>90</th>\n",
       "      <th>TYPE</th>\n",
       "    </tr>\n",
       "  </thead>\n",
       "  <tbody>\n",
       "    <tr>\n",
       "      <th>0</th>\n",
       "      <td>1</td>\n",
       "      <td>0</td>\n",
       "      <td>0</td>\n",
       "      <td>0</td>\n",
       "      <td>0</td>\n",
       "      <td>0</td>\n",
       "      <td>0</td>\n",
       "      <td>0</td>\n",
       "      <td>0</td>\n",
       "      <td>1</td>\n",
       "      <td>...</td>\n",
       "      <td>1</td>\n",
       "      <td>0</td>\n",
       "      <td>0</td>\n",
       "      <td>0</td>\n",
       "      <td>0</td>\n",
       "      <td>0</td>\n",
       "      <td>0</td>\n",
       "      <td>0</td>\n",
       "      <td>0</td>\n",
       "      <td>ONE</td>\n",
       "    </tr>\n",
       "    <tr>\n",
       "      <th>1</th>\n",
       "      <td>1</td>\n",
       "      <td>0</td>\n",
       "      <td>0</td>\n",
       "      <td>0</td>\n",
       "      <td>0</td>\n",
       "      <td>0</td>\n",
       "      <td>0</td>\n",
       "      <td>0</td>\n",
       "      <td>0</td>\n",
       "      <td>1</td>\n",
       "      <td>...</td>\n",
       "      <td>1</td>\n",
       "      <td>0</td>\n",
       "      <td>0</td>\n",
       "      <td>0</td>\n",
       "      <td>0</td>\n",
       "      <td>0</td>\n",
       "      <td>0</td>\n",
       "      <td>0</td>\n",
       "      <td>0</td>\n",
       "      <td>ONE</td>\n",
       "    </tr>\n",
       "    <tr>\n",
       "      <th>2</th>\n",
       "      <td>1</td>\n",
       "      <td>0</td>\n",
       "      <td>0</td>\n",
       "      <td>0</td>\n",
       "      <td>0</td>\n",
       "      <td>0</td>\n",
       "      <td>0</td>\n",
       "      <td>0</td>\n",
       "      <td>0</td>\n",
       "      <td>1</td>\n",
       "      <td>...</td>\n",
       "      <td>1</td>\n",
       "      <td>0</td>\n",
       "      <td>0</td>\n",
       "      <td>0</td>\n",
       "      <td>0</td>\n",
       "      <td>0</td>\n",
       "      <td>0</td>\n",
       "      <td>0</td>\n",
       "      <td>0</td>\n",
       "      <td>ONE</td>\n",
       "    </tr>\n",
       "    <tr>\n",
       "      <th>3</th>\n",
       "      <td>1</td>\n",
       "      <td>0</td>\n",
       "      <td>0</td>\n",
       "      <td>0</td>\n",
       "      <td>0</td>\n",
       "      <td>0</td>\n",
       "      <td>0</td>\n",
       "      <td>0</td>\n",
       "      <td>0</td>\n",
       "      <td>1</td>\n",
       "      <td>...</td>\n",
       "      <td>1</td>\n",
       "      <td>0</td>\n",
       "      <td>0</td>\n",
       "      <td>0</td>\n",
       "      <td>0</td>\n",
       "      <td>0</td>\n",
       "      <td>0</td>\n",
       "      <td>0</td>\n",
       "      <td>0</td>\n",
       "      <td>ONE</td>\n",
       "    </tr>\n",
       "    <tr>\n",
       "      <th>4</th>\n",
       "      <td>1</td>\n",
       "      <td>0</td>\n",
       "      <td>0</td>\n",
       "      <td>0</td>\n",
       "      <td>0</td>\n",
       "      <td>0</td>\n",
       "      <td>0</td>\n",
       "      <td>0</td>\n",
       "      <td>0</td>\n",
       "      <td>1</td>\n",
       "      <td>...</td>\n",
       "      <td>1</td>\n",
       "      <td>0</td>\n",
       "      <td>0</td>\n",
       "      <td>0</td>\n",
       "      <td>0</td>\n",
       "      <td>0</td>\n",
       "      <td>0</td>\n",
       "      <td>0</td>\n",
       "      <td>0</td>\n",
       "      <td>ONE</td>\n",
       "    </tr>\n",
       "  </tbody>\n",
       "</table>\n",
       "<p>5 rows × 91 columns</p>\n",
       "</div>"
      ],
      "text/plain": [
       "   1  2  3  4  5  6  7  8  9  10  ...  82  83  84  85  86  87  88  89  90  \\\n",
       "0  1  0  0  0  0  0  0  0  0   1  ...   1   0   0   0   0   0   0   0   0   \n",
       "1  1  0  0  0  0  0  0  0  0   1  ...   1   0   0   0   0   0   0   0   0   \n",
       "2  1  0  0  0  0  0  0  0  0   1  ...   1   0   0   0   0   0   0   0   0   \n",
       "3  1  0  0  0  0  0  0  0  0   1  ...   1   0   0   0   0   0   0   0   0   \n",
       "4  1  0  0  0  0  0  0  0  0   1  ...   1   0   0   0   0   0   0   0   0   \n",
       "\n",
       "   TYPE  \n",
       "0   ONE  \n",
       "1   ONE  \n",
       "2   ONE  \n",
       "3   ONE  \n",
       "4   ONE  \n",
       "\n",
       "[5 rows x 91 columns]"
      ]
     },
     "execution_count": 4,
     "metadata": {},
     "output_type": "execute_result"
    }
   ],
   "source": [
    "# DROPED THE UNWANTED COLUMN 'Unnamed: 0'\n",
    "\n",
    "data = data.drop(columns=['Unnamed: 0'])\n",
    "data.head()"
   ]
  },
  {
   "cell_type": "code",
   "execution_count": 5,
   "id": "922823fe-dd9f-490a-b93c-d3d5a2dc26db",
   "metadata": {},
   "outputs": [
    {
     "data": {
      "text/plain": [
       "(47578, 91)"
      ]
     },
     "execution_count": 5,
     "metadata": {},
     "output_type": "execute_result"
    }
   ],
   "source": [
    "# CHECKED THE SHAPE OF DATASET data\n",
    "data.shape"
   ]
  },
  {
   "cell_type": "code",
   "execution_count": 6,
   "id": "b5129bbe-cd42-402c-a00c-eee7053cf63d",
   "metadata": {},
   "outputs": [],
   "source": [
    "# FOR TRAINING WE SPLIT DATASET TO FEATURES AND TARGET AS X AND Y \n",
    "\n",
    "X = data.drop(columns=['TYPE'])\n",
    "Y = data.TYPE"
   ]
  },
  {
   "cell_type": "code",
   "execution_count": 7,
   "id": "60a7504e-168c-4c40-9a7c-55d59df17b3c",
   "metadata": {},
   "outputs": [],
   "source": [
    "x_train, x_test, y_train, y_test = train_test_split(X,Y,test_size=.25,random_state=25)"
   ]
  },
  {
   "cell_type": "code",
   "execution_count": 8,
   "id": "ad083898-43b8-4b9a-ba1c-eea632023bc7",
   "metadata": {},
   "outputs": [
    {
     "data": {
      "text/plain": [
       "1.0"
      ]
     },
     "execution_count": 8,
     "metadata": {},
     "output_type": "execute_result"
    }
   ],
   "source": [
    "# AFTER HYPERPARAMETER TUNING WE FOUND SVM WORKS WELL, CREATED A PREDICTING MODEL USING SVM\n",
    "\n",
    "model = svm.SVC( C=5,\n",
    "    kernel='poly')\n",
    "model.fit(x_train,y_train)\n",
    "model.score(x_test,y_test)"
   ]
  },
  {
   "cell_type": "code",
   "execution_count": 9,
   "id": "8f1de88b-2504-4ea7-8b74-d8dd468ea6c3",
   "metadata": {},
   "outputs": [
    {
     "data": {
      "text/plain": [
       "['Enneagram_predicting_model']"
      ]
     },
     "execution_count": 9,
     "metadata": {},
     "output_type": "execute_result"
    }
   ],
   "source": [
    "# SAVING THE MODEL USING JOBLIB\n",
    "\n",
    "joblib.dump(model,'Enneagram_predicting_model')"
   ]
  },
  {
   "cell_type": "markdown",
   "id": "649b8e38-a408-4680-8c3a-175ddb844f0e",
   "metadata": {},
   "source": [
    "# ALL THE ABOVE CELLS ARE FOR MODEL CREATION\r\n",
    "## \r\n",
    "RUN THE CODE FROME HERE IT WILL ALSO GIVES RESULT BY USING JOBLIB SAVED MODEL"
   ]
  },
  {
   "cell_type": "code",
   "execution_count": 28,
   "id": "379f264d-31a6-4db5-9fea-41f73bde51ee",
   "metadata": {},
   "outputs": [],
   "source": [
    "# CREATED 90 YES or NO TYPE QUESTIONS TO ASK USER \n",
    "\n",
    "qstn = ['1.I find it difficult to waste time, relax and joke are some difficult things for me.',\n",
    "        '2.I spend all my free time in charitable activities and I take pride in serving others.',\n",
    "        '3.I have the courage to trade with large sums and profit from it, I have experience in trading (YES when both statements are true)',\n",
    "        '4.I often feel misunderstood. Or no one really understands me',\n",
    "        \"5.I often prefer to sit back and observe other people's behaviors rather than participate in them.\",\n",
    "        '6. I like to know what others expect of me.',\n",
    "        \"7.This life is meant to be celebrated. It doesn't need to look at any boundaries.\",\n",
    "        '8.I am a very leadership person.I often assert my opinions and ideas in discussions and debates (YES when both statements are true)',\n",
    "        '9.Are you known for your ability to remain calm and composed, even in challenging or stressful situations? (YES, if you can keep your mind calm in most difficult situations)',\n",
    "        '10.My opinion is that people will love or accept me only if everything is done correctly and beautifully.',\n",
    "        \"11.I don't think I have so many needs, I put my needs aside and help others.\",\n",
    "        '12. I have a mind that does not tire no matter how hard I work',\n",
    "        '13. Poems, paintings, literature, and poetry writing are the vehicle for my emotional expression, I can understand the feelings of a sad character who smiles despite his own pain.',\n",
    "        '14. I can say that I am a loner, I am often complained of as aloof from people, I often prefer solitude to social interaction to recharge and reflect.',\n",
    "        '15. I judge whether others are a threat to me and I always like to be on the safe side.',\n",
    "        '16.Enjoy solitude and silence I often avoid the boredom of life by traveling and visiting friends.',\n",
    "        '17.I have the courage to do anything to enforce justice.',\n",
    "        '18. I can be an impartial arbitrator. Because I think both sides are equally true( Are you skilled at seeing multiple perspectives and finding common ground in difficult situations? )(NO when you are failing to find two or more dimensions to a single problem)',\n",
    "        \"19. Do you experience a strong inner conflict between your desire for perfection and your awareness of your own and other's imperfections and limitations?\",\n",
    "        '20.I have a hard time saying \"No\" to others, and I feel compelled to help others whether I like it or not. ',\n",
    "        '21.Do you find yourself constantly seeking new challenges and opportunities for growth?(YES if you regularly breaks your comfort zones)',\n",
    "        '22.Yesterday was better than today.',\n",
    "        '23.Do you often analyze your own feelings and thoughts, sometimes to the point of overthinking?(YES if you have Overthinking habit)',\n",
    "        '24.I have very low self-confidence and struggle with feelings of fear most of the time',\n",
    "        '25.I have the ability to enjoy life to the fullest by finding many opportunities to enjoy and celebrate',\n",
    "        '26. I am not afraid of others. I am ready to fight if necessary.',\n",
    "        '27.I am content with everything I have right nowI prioritize  maintaining calm and de-stressing over achieving new goals and outcomes(YES when both statements are true)',\n",
    "        '28.A critical voice that blames myself and others often bothers me',\n",
    "        '29.If I remember the help I have done, I deserve the first place in the lives of many.',\n",
    "        '30. I see a good businessman in me,Business possibilities that are appropriate to the situation at hand come to my mind andI research them(YES when both statements are True)',\n",
    "        '31. Wanting to be happy, I feel that the mind invites only sorrows, (I am constantly haunted by later events,)Feeling emotions intensely, sometimes to the point of feeling overwhelmed?',\n",
    "        '32.My thoughts are more than my work, I think most of the time that I am not ready to get to work, I am not ready now, I need more time.',\n",
    "        '33. I often  think about  potential risks or problems in various aspects of my life( I often  worry about future uncertainties or negative outcomes  )',\n",
    "        '34. Do you have a knack for finding the silver lining or positive side in challenging situations?(YES if finding a good thing in a bad situation)',\n",
    "        \"35.I don't hesitate to say things to my face when I think I'm wrong. That's how I do it.\",\n",
    "        '36.I am generally lazy and do not seem to have any urgent problems that cannot be put off until tomorrow.',\n",
    "        \"37.Are you drawn to roles or careers that involve advocating for justice and social reform?Do you think I can be counted among those who wage war against evil? (YES when both statements are true)\",\n",
    "        '38.I relate to my friends more than they relate to me. I am always there for others in times of crisis.',\n",
    "        '39. I have the ability to win anyone over with my speech, tact and professionalism are my hallmarks',\n",
    "        \"40.I obsess over losses and often feel like I'm a depressive.\",\n",
    "        '41.I need privacy more than most people, I can do tasks best when alone.(YES when both statements are true)',\n",
    "        '42. I often wonder if I have the courage to do the things that need to be done.',\n",
    "        '43.I like to cheer people up.Many people say that I am funny.',\n",
    "        '44.I am good at raising my voice and fighting to get my needs met.',\n",
    "        '45. I run away from many problems and avoid responsibilities',\n",
    "        '46. A trifle makes me lose all my peace of mind and I get angry easily.',\n",
    "        \"47.My need is to have an important place in someone's life. And I love when people need me.\",\n",
    "        '48.Winners in life are business people and risk takers, and I have the courage to take that risk I have taken that risk(YES when both statements are true)',\n",
    "        \"49. Many people don't have the ability to know what I'm going through and no one can understand me.\",\n",
    "        \"50.I have poor communication skills, I have difficulties in asking for my needs and connecting with people. I don't go up there and talk to anyone, I'm quieter than most  (YES if any statement is true)\",\n",
    "        '51. I have little ability to make decisions for myself.',\n",
    "        '52. My nature is to switch from one thing to another rather than getting deeply involved in something.',\n",
    "        \"53. I can quickly sense people's weaknesses and I will exploit this weakness if I am provoked.I don't value feelings.\",\n",
    "        '54.Many people say that I am very careless and lazy when it comes to dressing',\n",
    "        '55. I place great importance on discipline,setting rules and routines for myself and others to follow.I get angry when others do not behave as I expect them to(YES when any statement is true)',\n",
    "        '56. I never express my needs. I want others to see it and do it.',\n",
    "        '57. I am very competitive and I constantly strive to be the best in the fields I am a part of(YES when you can motivate ourself and can keep it for long)',\n",
    "        '58.Do you have a keen sensitivity to beauty and aesthetics, finding inspiration in art, music or nature?Do you sometimes feel depressed or incomplete even when things are going well in your life?(YES when any of the statement is true)',\n",
    "        '59.I have a strong need to understand the basic principles and mechanisms of how things work.I love to gain more knowledge and think deeply',\n",
    "        '60. I always worry about accidents and problems.',\n",
    "        \"61.I don't like anyone to see me cry. I always want to look happy and cheerful.\",\n",
    "        '62.I enjoy exercising power and I like to be at the top of the movement I am a part of',\n",
    "        \"63.Even in the midst of chaos and stress, I often feel an inner calm and contentment\",\n",
    "        '64.It is not wrong to call me a skeptic, I am more anxious than many others.',\n",
    "        '65.I am often burdened by the dependence of others on me, and the thought that people are using me for nothing.',\n",
    "        '66.My belief is that people will pay attention to me only when I have a lot of achievements. I will try to achieve success at any cost.',\n",
    "        '67.I have great love and awareness of nature, but the exploitation of nature by others in the name of development makes me very uncomfortable.',\n",
    "        '68. I have a very low voice. I understand that people force me to say it out loud.',\n",
    "        '69.I have great difficulty in going against authority',\n",
    "        '70.I can speak very eloquently to the accompaniment of geese and stories.',\n",
    "        '71. Do you feel capable of taking charge of situations and leading others toward a common goal? (YES if a good leader inside you)',\n",
    "        '72.I tend to tire easily and feel like I need more time to restI like to be idle and not busy with anything.(YES when both are true)',\n",
    "        '73.What bothers me is that nothing is going right, and I am disturbed by the faults of others.',\n",
    "        '74.I have gotten into trouble because I trust people too quickly.',\n",
    "        '75. Whenever I engage in something, I think about what I will gain from it ',\n",
    "        '76. I cannot be as happy as others are.',\n",
    "        '77.I think that many people do not love me and that many people do not want me.',\n",
    "        '78.I have a better ability to smell danger and threat',\n",
    "        \"79.I rate myself as very excited about the future.I maintain an optimistic belief in life's problems. \",\n",
    "        '80.Many people rely on me to (mediate) problems and I can make quick decisions.',\n",
    "        \"81.I often feel that I ignore life's problems without confronting them and that delaying a decision makes the problem worse\",\n",
    "        '82.I sometimes feel like I have a harsh, critical person inside me.',\n",
    "        \"83.Although I have the name of 'helper' among the locals, I often hear the complaint that I am useless in my house.\",\n",
    "        \"84.I don't rest without accomplishing my goals. I prioritize my plans more than people. The goal is more important than the means.\",\n",
    "        \"85. I always feel something incomplete so I can't feel satisfied\",\n",
    "        '86. I am somewhat stingy in sharing my time, money, and ideas with others',\n",
    "        '87.Doubt always haunts me. I am afraid to be in a position of responsibility.',\n",
    "        '88. I enjoy life to the fullest and like to think of myself as a fun loving child.',\n",
    "        \"89. I don't like to work under anyone\",\n",
    "        '90.I have good patience, I can forget and forgive even mistakes made by others']"
   ]
  },
  {
   "cell_type": "code",
   "execution_count": 30,
   "id": "c8993b7b-5766-4a4e-9f01-6c20615f2a0f",
   "metadata": {},
   "outputs": [],
   "source": [
    "# COLLECTED THE RESPONSE AS ZEROS AND ONES FROM YES AND NO FROM USER AND SAVED 90 RESPONSES IN A LIST list1\n",
    "\n",
    "list1 = []\n",
    "\n",
    "for i in range(len(qstn)):\n",
    "    print(qstn[i])\n",
    "    resp = input('Enter Yes or No: ').upper()\n",
    "    while resp not in ['YES', 'NO']:\n",
    "        print('Please enter Yes or No.')\n",
    "        resp = input('Enter Yes or No: ').upper()\n",
    "\n",
    "    if resp == 'YES':\n",
    "        list1.append(1)\n",
    "    elif resp == 'NO':\n",
    "        list1.append(0)\n",
    "\n",
    "print(\"Responses:\", list1)"
   ]
  },
  {
   "cell_type": "code",
   "execution_count": 31,
   "id": "7bf25bfe-7f9f-4001-a0fc-50511c3fb757",
   "metadata": {},
   "outputs": [],
   "source": [
    "# THESE ARE TWO TRUE LISTS THAT TAKEN FROM USER RESPONSE FOR TESTING THE MODEL WITH OUT ANSWERING 90 QUESTIONS ALL THE TIME\n",
    "\n",
    "list1 = [0,0, 0,1,1,1,0,0,0,0,0,0,1,0,1,1,0,1,1,1,0,1,0,0,1,0,1,0,0,0,1,0,1,1,1,0,1,1,1,0,0,1,1,1,0,1,1,0,1,0,0,1,0,0,1,0,1,1,0,0,1,0,0,0,1,0,0,0,1,1,1,1,1,1,0,1,0,0,1,0,1,1,0,0,0,1,1,1,0,1]\n",
    "# list1 =[0,1,0,1,1,0,1,1,1,1,1,1,1,0,1,0,1,1,0,1,0,1,1,1,0,1,0,0,1,1,1,1,1,0,0,0,0,1,1,0,0,1,0,0,0,1,1,1,1,0,1,0,0,0,1,1,0,0,1,0,1,0,1,0,1,0,0,0,1,0,1,1,0,1,0,1,1,0,0,0,1,0,0,0,1,0,0,1,0,1]"
   ]
  },
  {
   "cell_type": "markdown",
   "id": "70b5076e-79f7-493b-b630-502e19292096",
   "metadata": {},
   "source": [
    "FOR RECHECKING THE PREDICTIONS AND PLOTTING THE GRAPH AND BARGRAPH WE ARRANGED THE LIST TO 9 EQUAL PARTS OF 10 ELEMENTS\r\n",
    "\r\n",
    "90 QUESTIONS ARE ARRANGED EXACTLY LIKE THIS"
   ]
  },
  {
   "cell_type": "code",
   "execution_count": 32,
   "id": "3c4036c5-5325-4eda-8a65-3cfe6731d668",
   "metadata": {},
   "outputs": [],
   "source": [
    "one   = (list1[0]+list1[9]+list1[18]+list1[27]+list1[36]+list1[45]+list1[54]+list1[63]+list1[72]+list1[81])\n",
    "two   = (list1[1]+list1[10]+list1[19]+list1[28]+list1[37]+list1[46]+list1[55]+list1[64]+list1[73]+list1[82])\n",
    "three = (list1[2]+list1[11]+list1[20]+list1[29]+list1[38]+list1[47]+list1[56]+list1[65]+list1[74]+list1[83])\n",
    "four  = (list1[3]+list1[12]+list1[21]+list1[30]+list1[39]+list1[48]+list1[57]+list1[66]+list1[75]+list1[84])\n",
    "five  = (list1[4]+list1[13]+list1[22]+list1[31]+list1[40]+list1[49]+list1[58]+list1[67]+list1[76]+list1[85])\n",
    "six   = (list1[5]+list1[14]+list1[23]+list1[32]+list1[41]+list1[50]+list1[59]+list1[68]+list1[77]+list1[86])\n",
    "seven = (list1[6]+list1[15]+list1[24]+list1[33]+list1[42]+list1[51]+list1[60]+list1[69]+list1[78]+list1[87])\n",
    "eight = (list1[7]+list1[16]+list1[25]+list1[34]+list1[43]+list1[52]+list1[61]+list1[70]+list1[79]+list1[88])\n",
    "nine  = (list1[8]+list1[17]+list1[26]+list1[35]+list1[44]+list1[53]+list1[62]+list1[71]+list1[80]+list1[89])"
   ]
  },
  {
   "cell_type": "markdown",
   "id": "86647715-7496-4825-a9fc-f966a6f5261d",
   "metadata": {},
   "source": [
    "### STARTING PREDICTION"
   ]
  },
  {
   "cell_type": "code",
   "execution_count": 33,
   "id": "9ad62d4b-538f-42d3-9778-3c811b50baca",
   "metadata": {},
   "outputs": [],
   "source": [
    "model = joblib.load('Enneagram_predicting_model')"
   ]
  },
  {
   "cell_type": "code",
   "execution_count": 34,
   "id": "5a280f0f-f117-486a-b46e-28fafc60d4cf",
   "metadata": {},
   "outputs": [
    {
     "data": {
      "text/plain": [
       "'SEVEN -w- SIX'"
      ]
     },
     "execution_count": 34,
     "metadata": {},
     "output_type": "execute_result"
    }
   ],
   "source": [
    "result = model.predict([list1])\n",
    "# result = result[0]\n",
    "result = result[0]\n",
    "result"
   ]
  },
  {
   "cell_type": "markdown",
   "id": "c3ead8e2-00b8-442b-afa7-4d16793e6a85",
   "metadata": {},
   "source": [
    "DEFINING TWO FUNCTIONS TO FIND THE ARROWS AND WINGS OF THE USER IN DETAIL\r\n",
    "\r\n",
    "THESE FUNCTIONS ALSO HELPS US TO RE-CHECK THE PREDICTED TYPE"
   ]
  },
  {
   "cell_type": "code",
   "execution_count": 35,
   "id": "54ce694d-9fee-4fb1-ab9d-a9e458d423c3",
   "metadata": {},
   "outputs": [],
   "source": [
    "# THIS FUNCTION FIND THE ARROW OF PERSONALITY IF MACHINE PREDICTED RESULT WITH WINGS\n",
    "\n",
    "def arrow_find(result):\n",
    "    arrows = {\n",
    "        'ONE -w- TWO': [('seven', 'SEVEN'), ('four', 'FOUR')],\n",
    "        'ONE -w- NINE': [('seven', 'SEVEN'), ('four', 'FOUR')],\n",
    "        'TWO -w- ONE': [('eight', 'EIGHT'), ('two', 'TWO')],\n",
    "        'TWO -w- THREE': [('eight', 'EIGHT'), ('two', 'TWO')],\n",
    "        'THREE -w- TWO': [('six', 'SIX'), ('nine', 'NINE')],\n",
    "        'THREE -w- FOUR': [('six', 'SIX'), ('nine', 'NINE')],\n",
    "        'FOUR -w- THREE': [('one', 'ONE'), ('two', 'TWO')],\n",
    "        'FOUR -w- FIVE': [('one', 'ONE'), ('two', 'TWO')],\n",
    "        'FIVE - w- FOUR': [('seven', 'SEVEN'), ('eight', 'EIGHT')],\n",
    "        'FIVE - w- SIX': [('seven', 'SEVEN'), ('eight', 'EIGHT')],\n",
    "        'SIX -w- FIVE': [('nine', 'NINE'), ('three', 'THREE')],\n",
    "        'SIX -w- SEVEN': [('nine', 'NINE'), ('three', 'THREE')],\n",
    "        'SEVEN -w- SIX': [('five', 'FIVE'), ('one', 'ONE')],\n",
    "        'SEVEN -w- EIGHT': [('one', 'ONE'), ('five', 'FIVE')],\n",
    "        'EIGHT w SEVEN': [('two', 'TWO'), ('five', 'FIVE')],\n",
    "        'EIGHT -w- NINE': [('two', 'TWO'), ('five', 'FIVE')],\n",
    "        'NINE -w- ONE': [('three', 'THREE'), ('six', 'SIX')],\n",
    "        'NINE -w- EIGHT': [('three', 'THREE'), ('six', 'SIX')],\n",
    "    }\n",
    "\n",
    "\n",
    "    for relation, conditions in arrows.items():\n",
    "        if result == relation:\n",
    "            for condition in conditions:\n",
    "                if globals()[condition[0]] > 5:\n",
    "                    return f\"{result} ARROW ON {condition[1]}\"\n",
    "            return result\n",
    "    return result"
   ]
  },
  {
   "cell_type": "code",
   "execution_count": 36,
   "id": "96821249-00f8-48d4-a42e-ccbe961a066c",
   "metadata": {},
   "outputs": [],
   "source": [
    "# THIS FUNCTION FIND THE WING OF PERSONALITY IF MACHINE PREDICTED RESULT WITH ARROWS\n",
    "\n",
    "def wing_find(result):\n",
    "\n",
    "    if result == 'ONE -A- FOUR':\n",
    "        if two > 5:\n",
    "            return 'ONE -W- TWO ARROW ON FOUR'\n",
    "        elif nine > 5:\n",
    "            return 'ONE -W- NINE ARROW ON FOUR'\n",
    "\n",
    "\n",
    "    elif result == 'ONE -A- SEVEN':\n",
    "        if two > 5:\n",
    "            return 'ONE -W- TWO ARROW ON SEVEN'\n",
    "        elif nine > 5:\n",
    "            return 'ONE -W- NINE ARROW ON SEVEN'\n",
    "\n",
    "\n",
    "\n",
    "    elif result == 'TWO -A- EIGHT':\n",
    "        if one > 5:\n",
    "            return 'TWO -W- ONE ARROW ON EIGHT'\n",
    "        elif three > 5:\n",
    "            return 'TWO -W- THREE ARROW ON EIGHT'\n",
    "\n",
    "\n",
    "    elif result == 'TWO -A- FOUR':\n",
    "        if one > 5:\n",
    "            return 'TWO -W- ONE ARROW ON FOUR'\n",
    "        elif three > 5:\n",
    "            return 'TWO -W- THREE ARROW ON FOUR'\n",
    "\n",
    "\n",
    "    elif result == 'THREE -A- NINE':\n",
    "        if two > 5:\n",
    "            return 'THREE -W- TWO ARROW ON NINE'\n",
    "        elif four > 5:\n",
    "            return 'THREE -W- FOUR ARROW ON NINE'\n",
    "\n",
    "\n",
    "    elif result == 'THREE -A- SIX':\n",
    "        if two > 5:\n",
    "            return 'THREE -W- TWO ARROW ON SIX'\n",
    "        elif four > 5:\n",
    "            return 'THREE -W- FOUR ARROW ON SIX'\n",
    "\n",
    "\n",
    "    elif result == 'FOUR -A- ONE':\n",
    "        if three > 5:\n",
    "            return 'FOUR -W- THREE ARROW ON ONE'\n",
    "        elif five > 5:\n",
    "            return 'FOUR -W- FIVE ARROW ON ONE'\n",
    "\n",
    "\n",
    "    elif result == 'FOUR -A- TWO':\n",
    "        if three > 5:\n",
    "            return 'FOUR -W- THREE ARROW ON TWO'\n",
    "        elif five > 5:\n",
    "            return 'FOUR -W- FIVE ARROW ON TWO'\n",
    "\n",
    "\n",
    "    elif result == 'FIVE -A-EIGHT':\n",
    "        if four > 5:\n",
    "            return 'FIVE -W- FOUR ARROW ON EIGHT'\n",
    "        elif six > 5:\n",
    "            return 'FIVE -W- SIX ARROW ON EIGHT'\n",
    "\n",
    "\n",
    "    elif result == 'FIVE -A-SEVEN':\n",
    "        if four > 5:\n",
    "            return 'FIVE -W- FOUR ARROW ON SEVEN'\n",
    "        elif six > 5:\n",
    "            return 'FIVE -W- SIX ARROW ON SEVEN'\n",
    "\n",
    "\n",
    "    elif result == 'EIGHT - A- FIVE':\n",
    "        if seven > 5:\n",
    "            return 'EIGHT -W- SEVEN ARROW ON FIVE'\n",
    "        elif nine > 5:\n",
    "            return 'EIGHT -W- NINE ARROW ON FIVE'\n",
    "\n",
    "\n",
    "    elif result == 'EIGHT -A- TWO':\n",
    "        if seven > 5:\n",
    "            return 'EIGHT -W- SEVEN ARROW ON TWO'\n",
    "        elif nine > 5:\n",
    "            return 'EIGHT -W- NINE ARROW ON TWO'\n",
    "\n",
    "\n",
    "    elif result == 'NINE -A- SIX':\n",
    "        if eight > 5:\n",
    "            return 'NINE -W- EIGHT ARROW ON SIX'\n",
    "        elif one > 5:\n",
    "            return 'NINE -W- ONE ARROW ON SIX'\n",
    "\n",
    "\n",
    "    elif result == 'NINE -A- THREE':\n",
    "        if eight > 5:\n",
    "            return 'NINE -W- EIGHT ARROW ON THREE'\n",
    "        elif one > 5:\n",
    "            return 'NINE -W- ONE ARROW ON THREE'\n",
    "\n",
    "\n",
    "    elif result == 'SEVEN -A- FIVE':\n",
    "        if six > 5:\n",
    "            return 'SEVEN -W- SIX ARROW ON FIVE'\n",
    "        elif eight > 5:\n",
    "            return 'SEVEN -W- EIGHT ARROW ON FIVE'\n",
    "\n",
    "\n",
    "    elif result == 'SEVEN -A- ONE':\n",
    "        if six > 5:\n",
    "            return 'SEVEN -W- SIX ARROW ON ONE'\n",
    "        elif eight > 5:\n",
    "            return 'SEVEN -W- EIGHT ARROW ON ONE'\n",
    "\n",
    "\n",
    "    elif result == 'SIX -A- NINE':\n",
    "        if five > 5:\n",
    "            return 'SIX -W- FIVE ARROW ON NINE'\n",
    "        elif seven > 5:\n",
    "            return 'SIX -W- SEVEN ARROW ON NINE'\n",
    "\n",
    "\n",
    "    elif result == 'SIX -A- THREE':\n",
    "        if five > 5:\n",
    "            return 'SIX -W- FIVE ARROW ON THREE'\n",
    "        elif seven > 5:\n",
    "            return 'SIX -W- SEVEN ARROW ON THREE'\n",
    "\n",
    "    return result"
   ]
  },
  {
   "cell_type": "code",
   "execution_count": 37,
   "id": "bb09ce52-6614-4d1e-ab57-b6210c793811",
   "metadata": {},
   "outputs": [],
   "source": [
    "# THIS CODE WILL RECHECK THE RESULTS BY MATCHING THE VALUES OF EACH TYPE WE CALCULATED ABOVE AND GIVE RESULTS\n",
    "\n",
    "def recheck_Result(result):\n",
    "    # Check for patterns that should trigger arrow_find\n",
    "    if any(pattern in result for pattern in [\"-w-\", \"- w\", \"w \"]):\n",
    "        return arrow_find(result)\n",
    "    # Check for patterns that should trigger wing_find\n",
    "    elif any(pattern in result for pattern in [\"-A-\", \"- A-\", \"- A -\"]):\n",
    "        return wing_find(result)\n",
    "    # If no patterns match, return the result as is\n",
    "    return result"
   ]
  },
  {
   "cell_type": "code",
   "execution_count": 38,
   "id": "e7120dd8-fcc4-46ae-8569-14b02a14d469",
   "metadata": {},
   "outputs": [
    {
     "name": "stdout",
     "output_type": "stream",
     "text": [
      "SEVEN -w- SIX ARROW ON ONE\n"
     ]
    }
   ],
   "source": [
    "trail = recheck_Result(result)\n",
    "print(trail)"
   ]
  },
  {
   "cell_type": "markdown",
   "id": "e5ee34da-04d3-4659-8708-96e34fe3a0c6",
   "metadata": {},
   "source": [
    "WE NEEDED TO VERIFY THE RESULT\r\n",
    "\r\n",
    "FOR THAT GRAPHICAL REPRESENTATION IS EASIER"
   ]
  },
  {
   "cell_type": "code",
   "execution_count": 39,
   "id": "69c8b0d0-965c-4c9c-814c-2793ceee1ca6",
   "metadata": {},
   "outputs": [
    {
     "data": {
      "image/png": "[encoded data removed]",
      "text/plain": [
       "<Figure size 1000x500 with 1 Axes>"
      ]
     },
     "metadata": {},
     "output_type": "display_data"
    }
   ],
   "source": [
    "#  CODE FOR  BAR GRAPH\n",
    "\n",
    "categories = ['ONE', 'TWO', 'THREE', 'FOUR', 'FIVE', 'SIX', 'SEVEN', 'EIGHT', 'NINE']\n",
    "values = [one, two, three, four, five, six, seven, eight, nine]\n",
    "\n",
    "plt.figure(figsize=(10, 5))\n",
    "plt.bar(categories, values, color='gray')\n",
    "plt.xlabel('PERSONALITIES')\n",
    "plt.ylabel('VALUES')\n",
    "plt.title('PERSONALITY VS VALUES BAR-GRAPH')\n",
    "plt.grid(True)\n",
    "plt.show()"
   ]
  },
  {
   "cell_type": "code",
   "execution_count": 40,
   "id": "166a1db4-6fd1-42c7-83b6-54e4bdd4705d",
   "metadata": {},
   "outputs": [
    {
     "data": {
      "image/png": "[encoded data removed]",
      "text/plain": [
       "<Figure size 1000x500 with 1 Axes>"
      ]
     },
     "metadata": {},
     "output_type": "display_data"
    }
   ],
   "source": [
    "# CODE FOR LINE GRAPH\n",
    "\n",
    "categories = ['ONE', 'TWO', 'THREE', 'FOUR', 'FIVE', 'SIX', 'SEVEN', 'EIGHT', 'NINE']\n",
    "values = [one, two, three, four, five, six, seven, eight, nine]\n",
    "\n",
    "# Plotting the line graph\n",
    "plt.figure(figsize=(10, 5))\n",
    "plt.plot(categories, values, marker='o', color='GRAY', label='CHAR')\n",
    "plt.axhline(y=5, color='r', linestyle='--', label='BALANCE')\n",
    "plt.xlabel('PERSONALITIES')\n",
    "plt.ylabel('VALUES')\n",
    "plt.title('CHAR Graph with BALANCE Line ')\n",
    "plt.legend()\n",
    "plt.grid(True)\n",
    "plt.show()"
   ]
  },
  {
   "cell_type": "code",
   "execution_count": null,
   "id": "a89fce89-2891-4568-b755-9b5a0a379e28",
   "metadata": {},
   "outputs": [],
   "source": []
  },
  {
   "cell_type": "markdown",
   "id": "5cf4424f-8426-4606-967b-23bd6cedfced",
   "metadata": {},
   "source": [
    "# Transaction analysis"
   ]
  },
  {
   "cell_type": "code",
   "execution_count": 23,
   "id": "0835737e-cf8f-4ddd-8061-57c340cd77b4",
   "metadata": {},
   "outputs": [],
   "source": [
    "# FROM THE RESPONSE OF USER WE ARE TRYING TO IDENTIFY THEIR EGO-STATES\n",
    "# Calculating values for each category\n",
    "critical_Parent = list1[0] + list1[9] + list1[18] + list1[27] + list1[34] + list1[36] + list1[43] + list1[54] + list1[72] + list1[81]\n",
    "nurturing_Parent = list1[1] + list1[5] + list1[10] + list1[19] + list1[28] + list1[37] + list1[46] + list1[62] + list1[64] + list1[89]\n",
    "adult = list1[7] + list1[34] + list1[58] + list1[70] + list1[79] + list1[83] + list1[38] + list1[65] + list1[61] + list1[60]\n",
    "adapted_Child = list1[4] + list1[14] + list1[23] + list1[41] + list1[68] + list1[49] + list1[50] + list1[67] + list1[76] + list1[86]\n",
    "natural_Child = list1[6] + list1[15] + list1[20] + list1[25] + list1[42] + list1[69] + list1[34] + list1[24] + list1[87] + list1[88]"
   ]
  },
  {
   "cell_type": "code",
   "execution_count": 24,
   "id": "84ac2527-731e-473a-8755-3d83f13a9f2f",
   "metadata": {},
   "outputs": [],
   "source": [
    "# Creating a dictionary to sort the categories by their values\n",
    "data = {\n",
    "    'Critical_Parent': critical_Parent,\n",
    "    'Nurturing_Parent': nurturing_Parent,\n",
    "    'Adult': adult,\n",
    "    'Adapted_Child': adapted_Child,\n",
    "    'Natural_Child': natural_Child\n",
    "}"
   ]
  },
  {
   "cell_type": "code",
   "execution_count": 25,
   "id": "f5eaa62d-84c4-45cb-a746-353d572cda1c",
   "metadata": {},
   "outputs": [
    {
     "name": "stdout",
     "output_type": "stream",
     "text": [
      "           Category  Value\n",
      "0   Critical_Parent      7\n",
      "1  Nurturing_Parent      6\n",
      "2     Natural_Child      6\n",
      "3     Adapted_Child      5\n",
      "4             Adult      4\n"
     ]
    }
   ],
   "source": [
    "# Sorting the dictionary by values in descending order\n",
    "sorted_data = dict(sorted(data.items(), key=lambda item: item[1], reverse=True))\n",
    "\n",
    "# Extracting sorted categories and values\n",
    "categories_sorted = list(sorted_data.keys())\n",
    "values_sorted = list(sorted_data.values())\n",
    "\n",
    "# Creating a DataFrame\n",
    "transaction_Analysis_Ego_states = pd.DataFrame({'Category': categories_sorted, 'Value': values_sorted})\n",
    "\n",
    "# Display the DataFrame\n",
    "print(transaction_Analysis_Ego_states)"
   ]
  },
  {
   "cell_type": "code",
   "execution_count": 26,
   "id": "1def6fce-cb48-4105-acbb-889c421a6d35",
   "metadata": {},
   "outputs": [
    {
     "data": {
      "image/png": "[encoded data removed]",
      "text/plain": [
       "<Figure size 1000x500 with 1 Axes>"
      ]
     },
     "metadata": {},
     "output_type": "display_data"
    }
   ],
   "source": [
    "# Plotting the pie chart\n",
    "plt.figure(figsize=(10, 5))\n",
    "plt.pie(values_sorted, labels=categories_sorted, autopct='%1.1f%%', startangle=140)\n",
    "plt.title('EGO-STATES VS VALUES PIE CHART', color='red')\n",
    "plt.show()"
   ]
  },
  {
   "cell_type": "code",
   "execution_count": null,
   "id": "a1a4b1f1-abff-4a08-9810-6e37e87757e2",
   "metadata": {},
   "outputs": [],
   "source": []
  },
  {
   "cell_type": "markdown",
   "id": "f5d01ef5-0057-488d-9769-d3d6fbb9228c",
   "metadata": {},
   "source": [
    "# NEUROLINGUISTIC PROGRAMMING (NLP)"
   ]
  },
  {
   "cell_type": "code",
   "execution_count": 41,
   "id": "2fcbf170-e2d8-4370-8d0e-f7dd5a402d1a",
   "metadata": {},
   "outputs": [],
   "source": [
    "# ASKING 15 YES OR NO TYPE QUESTIONS TO USER \n",
    "\n",
    "nlp_question = [\n",
    "               \"Do you find yourself remembering things better when you see them written down?\",\n",
    "    \"Do you enjoy using diagrams, charts, or other visual aids to understand concepts?\",\n",
    "    \"Do you often visualize scenarios or images in your mind when trying to remember something?\",\n",
    "    \"Do you often notice when things are out of place or not visually appealing?\",\n",
    "    \"Do you notice details in your environment easily, such as changes in color or patterns?\",\n",
    "\n",
    "    \"Do you enjoy listening to podcasts, audiobooks, or music while learning or working?\",\n",
    "    \"Do you find it easy to remember information when you hear it spoken aloud?\",\n",
    "    \"Do you prefer discussing topics with others rather than reading about them?\",\n",
    "    \"Do you find it easy to remember people's voices or accents?\",\n",
    "    \"Do you find it easy to follow spoken instructions without needing written guidance?\",\n",
    "\n",
    "    \"Do you prefer hands-on activities or experiments when learning new concepts?\",\n",
    "    \"Do you find it helpful to take breaks and move around while studying or working?\",\n",
    "    \"Do you remember things better when you physically interact with them, such as touching or moving objects?\",\n",
    "    \"Do you find it easy to remember information when you associate it with physical sensations or movements?\",\n",
    "    \"Do you enjoy activities that involve building, crafting, or creating things with your hands?\"\n",
    "\n",
    "\n",
    "\n",
    "]"
   ]
  },
  {
   "cell_type": "code",
   "execution_count": null,
   "id": "529023c4-4f12-42d8-87dc-60d77487794a",
   "metadata": {},
   "outputs": [],
   "source": [
    "# STORING THE RESULT AS ONES AND ZEROS CURRESPONDING TO YES AND NO\n",
    "\n",
    "nlp_storage = []\n",
    "\n",
    "for i in range(len(nlp_question)):\n",
    "    print(nlp_question[i])\n",
    "    resp = input('Enter Yes or No: ').upper()\n",
    "    while resp not in ['YES', 'NO']:\n",
    "        print('Please enter Yes or No.')\n",
    "        resp = input('Enter Yes or No: ').upper()\n",
    "\n",
    "    if resp == 'YES':\n",
    "        nlp_storage.append(1)\n",
    "    elif resp == 'NO':\n",
    "        nlp_storage.append(0)\n",
    "\n",
    "# print(\"Responses:\", char)"
   ]
  },
  {
   "cell_type": "code",
   "execution_count": 42,
   "id": "fe8e6544-7e1c-4448-b0f2-4675796fb0c5",
   "metadata": {},
   "outputs": [],
   "source": [
    "# these following lists are for testing the function without attending the 15 questions all the time\n",
    "\n",
    "# nlp_storage = [1, 1, 1, 0, 1, 1, 0, 1, 0, 0, 0, 1, 1, 1, 1]\n",
    "# nlp_storage = [1, 1, 1, 1, 1, 1, 0, 1, 0, 1, 0, 1, 0, 0, 1]\n",
    "# nlp_storage = [1, 0, 0, 0, 1, 1, 1, 1, 1, 1, 0, 1, 1, 1, 1]\n",
    "nlp_storage = [1, 0, 1, 0, 0, 1, 0, 1, 0, 0, 1, 1, 1, 1, 1]"
   ]
  },
  {
   "cell_type": "code",
   "execution_count": 43,
   "id": "fbb49387-4e6c-4f42-866e-df02872f4b83",
   "metadata": {},
   "outputs": [],
   "source": [
    "# VISUAL, AUDITORY, AND KINESTETIC ARE CONSIDERD HERE\n",
    "\n",
    "visual = sum(nlp_storage[:5])\n",
    "auditory = sum(nlp_storage[5:10])\n",
    "kinesthetic = sum(nlp_storage[10:])"
   ]
  },
  {
   "cell_type": "code",
   "execution_count": 44,
   "id": "34d0f2c8-8104-4a3b-a5e9-a342810754c6",
   "metadata": {},
   "outputs": [],
   "source": [
    "# DEFINING A FUNCTION TO FIND USER'S METHOD OF LEARNING\n",
    "def find_nlp_type(nlp_storage):\n",
    "\n",
    "    max_sum = max(visual, auditory, kinesthetic)\n",
    "\n",
    "    max_lists = []\n",
    "\n",
    "    if visual == max_sum:\n",
    "        max_lists.append(\"visual\")\n",
    "    if auditory == max_sum:\n",
    "        max_lists.append(\"auditory\")\n",
    "    if kinesthetic == max_sum:\n",
    "        max_lists.append(\"kinesthetic\")\n",
    "\n",
    "    return max_lists"
   ]
  },
  {
   "cell_type": "code",
   "execution_count": 45,
   "id": "1aada8bc-bff9-4417-8fb8-de27e0f7ae8b",
   "metadata": {},
   "outputs": [],
   "source": [
    "result = find_nlp_type(nlp_storage)"
   ]
  },
  {
   "cell_type": "code",
   "execution_count": 46,
   "id": "d0ef9e31-ae3c-48c5-87a8-f3c65082647d",
   "metadata": {},
   "outputs": [
    {
     "name": "stdout",
     "output_type": "stream",
     "text": [
      "kinesthetic\n"
     ]
    }
   ],
   "source": [
    "# Remove the square brackets and strip any extra spaces\n",
    "nlp_Model = str(result).replace(\"[\", \"\").replace(\"]\", \"\").replace(\"'\", \"\").strip()\n",
    "\n",
    "print(nlp_Model)"
   ]
  },
  {
   "cell_type": "code",
   "execution_count": 47,
   "id": "07a74abc-612a-4579-9c91-bb1027f635bd",
   "metadata": {
    "scrolled": true
   },
   "outputs": [
    {
     "data": {
      "image/png": "[encoded data removed]",
      "text/plain": [
       "<Figure size 800x600 with 1 Axes>"
      ]
     },
     "metadata": {},
     "output_type": "display_data"
    }
   ],
   "source": [
    "import seaborn as sns\n",
    "# THIS CODE FROM CHAT-GPT\n",
    "\n",
    "data = {'Category': ['Visual', 'Auditory', 'Kinesthetic'],\n",
    "        'Sum': [visual, auditory, kinesthetic]}\n",
    "df = pd.DataFrame(data)\n",
    "\n",
    "# Set the style of the visualization\n",
    "sns.set(style=\"whitegrid\")\n",
    "\n",
    "# Create the bar plot\n",
    "plt.figure(figsize=(8, 6))\n",
    "bar_plot = sns.barplot(x='Category', y='Sum', data=df, palette='viridis')\n",
    "\n",
    "# Add titles and labels\n",
    "plt.title('NLP types vs values', fontsize=16)\n",
    "plt.xlabel('Category', fontsize=14)\n",
    "plt.ylabel('Sum', fontsize=14)\n",
    "\n",
    "# Display the values on the bars\n",
    "for index, row in df.iterrows():\n",
    "    bar_plot.text(index, row['Sum'], round(row['Sum'], 2), color='black', ha=\"center\")\n",
    "\n",
    "# Show the plot\n",
    "plt.tight_layout()\n",
    "plt.show()"
   ]
  },
  {
   "cell_type": "code",
   "execution_count": null,
   "id": "284b5936-f5d9-4232-a37d-c5342166bafd",
   "metadata": {},
   "outputs": [],
   "source": []
  },
  {
   "cell_type": "code",
   "execution_count": null,
   "id": "29d355cc",
   "metadata": {},
   "outputs": [],
   "source": []
  }
 ],
 "metadata": {
  "kernelspec": {
   "display_name": "Python 3 (ipykernel)",
   "language": "python",
   "name": "python3"
  },
  "language_info": {
   "codemirror_mode": {
    "name": "ipython",
    "version": 3
   },
   "file_extension": ".py",
   "mimetype": "text/x-python",
   "name": "python",
   "nbconvert_exporter": "python",
   "pygments_lexer": "ipython3",
   "version": "3.11.7"
  }
 },
 "nbformat": 4,
 "nbformat_minor": 5
}
